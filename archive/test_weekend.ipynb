{
 "cells": [
  {
   "cell_type": "code",
   "execution_count": 2,
   "metadata": {},
   "outputs": [
    {
     "data": {
      "text/plain": [
       "isweekend (generic function with 1 method)"
      ]
     },
     "execution_count": 2,
     "metadata": {},
     "output_type": "execute_result"
    }
   ],
   "source": [
    "include(\"schedule_lib.jl\")"
   ]
  },
  {
   "cell_type": "code",
   "execution_count": 76,
   "metadata": {
    "jupyter": {
     "outputs_hidden": true,
     "source_hidden": true
    }
   },
   "outputs": [
    {
     "ename": "LoadError",
     "evalue": "MethodError: no method matching Course(::String, ::Int64, ::Array{Date,1}, ::Array{Int64,1}; Ndays=1, groups=Dict(\"BHK\" => [\"pilot\"]))\nClosest candidates are:\n  Course(::String, ::Union{Int64, Day}, ::Array{Date,1}, ::Array{Int64,1}, !Matched::String; Ndays, date, groups) at C:\\Users\\laris\\OneDrive\\Documents\\ERM\\1Ma2Sem\\DS425 - (6) AI Decision support\\PROJECT1\\ExamTimetable\\schedule_lib.jl:15",
     "output_type": "error",
     "traceback": [
      "MethodError: no method matching Course(::String, ::Int64, ::Array{Date,1}, ::Array{Int64,1}; Ndays=1, groups=Dict(\"BHK\" => [\"pilot\"]))\nClosest candidates are:\n  Course(::String, ::Union{Int64, Day}, ::Array{Date,1}, ::Array{Int64,1}, !Matched::String; Ndays, date, groups) at C:\\Users\\laris\\OneDrive\\Documents\\ERM\\1Ma2Sem\\DS425 - (6) AI Decision support\\PROJECT1\\ExamTimetable\\schedule_lib.jl:15",
      "",
      "Stacktrace:",
      " [1] import_excel(::String) at C:\\Users\\laris\\OneDrive\\Documents\\ERM\\1Ma2Sem\\DS425 - (6) AI Decision support\\PROJECT1\\ExamTimetable\\schedule_lib.jl:253",
      " [2] top-level scope at In[76]:2",
      " [3] include_string(::Function, ::Module, ::String, ::String) at .\\loading.jl:1091"
     ]
    }
   ],
   "source": [
    "filename = \"examparams.xlsx\"\n",
    "s = import_excel(filename)"
   ]
  },
  {
   "cell_type": "code",
   "execution_count": 3,
   "metadata": {},
   "outputs": [
    {
     "data": {
      "text/plain": [
       "false"
      ]
     },
     "execution_count": 3,
     "metadata": {},
     "output_type": "execute_result"
    }
   ],
   "source": [
    "function isweekend(d::Date)\n",
    "    issaturday = d->Dates.dayofweek(d) == Dates.Saturday\n",
    "    issunday = d->Dates.dayofweek(d) == Dates.Sunday\n",
    "    if issaturday(d) || issunday(d) == true\n",
    "        return true\n",
    "    else\n",
    "        return false\n",
    "    end\n",
    "end\n",
    "isweekend(Date(2021,3,26))"
   ]
  },
  {
   "cell_type": "code",
   "execution_count": 110,
   "metadata": {},
   "outputs": [
    {
     "data": {
      "text/plain": [
       "remove! (generic function with 1 method)"
      ]
     },
     "execution_count": 110,
     "metadata": {},
     "output_type": "execute_result"
    }
   ],
   "source": [
    "function remove!(a, item)\n",
    "    deleteat!(a, findall(x->x==item, a))\n",
    "end"
   ]
  },
  {
   "cell_type": "code",
   "execution_count": 111,
   "metadata": {},
   "outputs": [
    {
     "data": {
      "text/plain": [
       "2-element Array{Any,1}:\n",
       " 4\n",
       " 5"
      ]
     },
     "execution_count": 111,
     "metadata": {},
     "output_type": "execute_result"
    }
   ],
   "source": [
    "av = [Date(2021,3,24),Date(2021,3,25),Date(2021,3,26),Date(2021,3,27),Date(2021,3,28),Date(2021,3,29)]\n",
    "res = Vector{}()\n",
    "for i in 1:length(av)\n",
    "    r = isweekend(av[i])\n",
    "    if r == true\n",
    "        push!(res,i)\n",
    "    end\n",
    "end\n",
    "res"
   ]
  },
  {
   "cell_type": "code",
   "execution_count": 112,
   "metadata": {},
   "outputs": [
    {
     "data": {
      "text/plain": [
       "6-element Array{Date,1}:\n",
       " 2021-03-24\n",
       " 2021-03-25\n",
       " 2021-03-26\n",
       " 2021-03-27\n",
       " 2021-03-28\n",
       " 2021-03-29"
      ]
     },
     "execution_count": 112,
     "metadata": {},
     "output_type": "execute_result"
    }
   ],
   "source": [
    "remove!(av,av[res])"
   ]
  },
  {
   "cell_type": "code",
   "execution_count": 108,
   "metadata": {},
   "outputs": [
    {
     "data": {
      "text/plain": [
       "4-element Array{Int64,1}:\n",
       "  3\n",
       "  4\n",
       "  8\n",
       " 11"
      ]
     },
     "execution_count": 108,
     "metadata": {},
     "output_type": "execute_result"
    }
   ],
   "source": [
    "t = [3,4,23,8,11]\n",
    "remove!(t,t[3])"
   ]
  },
  {
   "cell_type": "code",
   "execution_count": null,
   "metadata": {
    "jupyter": {
     "source_hidden": true
    }
   },
   "outputs": [],
   "source": [
    "if course.weekend == \"no\"\n",
    "   #changer dans les contraintes\n",
    "    # mettre les isweekend()==true en unavailable\n",
    "end"
   ]
  }
 ],
 "metadata": {
  "kernelspec": {
   "display_name": "Julia 1.6.0",
   "language": "julia",
   "name": "julia-1.6"
  },
  "language_info": {
   "file_extension": ".jl",
   "mimetype": "application/julia",
   "name": "julia",
   "version": "1.6.0"
  }
 },
 "nbformat": 4,
 "nbformat_minor": 4
}
