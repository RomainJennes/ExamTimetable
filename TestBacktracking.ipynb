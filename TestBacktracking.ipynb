{
 "cells": [
  {
   "cell_type": "code",
   "execution_count": 60,
   "id": "roman-sigma",
   "metadata": {},
   "outputs": [
    {
     "data": {
      "text/plain": [
       "import_excel (generic function with 1 method)"
      ]
     },
     "execution_count": 60,
     "metadata": {},
     "output_type": "execute_result"
    }
   ],
   "source": [
    "include(\"schedule_lib.jl\")"
   ]
  },
  {
   "cell_type": "code",
   "execution_count": 61,
   "id": "dramatic-diesel",
   "metadata": {},
   "outputs": [
    {
     "data": {
      "text/plain": [
       "parse_neighbors (generic function with 1 method)"
      ]
     },
     "execution_count": 61,
     "metadata": {},
     "output_type": "execute_result"
    }
   ],
   "source": [
    "# to be able to add new methods to the existing ones in Julia Base\n",
    "import Base.getindex, Base.get, Base.haskey, Base.in, Base.copy, Base.deepcopy\n",
    "\n",
    "abstract type AbstractProblem end;\n",
    "abstract type AbstractCSP <: AbstractProblem end;\n",
    "\n",
    "# ___________________________________________________________________ #\n",
    "# Everything related to dictionaries for domain and neighbor tracking #\n",
    "# ___________________________________________________________________ #\n",
    "struct ConstantFunctionDict{V}\n",
    "    value::V\n",
    "    function ConstantFunctionDict{V}(val::V) where V\n",
    "           return new(val);\n",
    "    end\n",
    "end\n",
    "\n",
    "ConstantFunctionDict(val) = ConstantFunctionDict{typeof(val)}(val);\n",
    "\n",
    "copy(cfd::ConstantFunctionDict) = ConstantFunctionDict{typeof(cfd.value)}(cfd.value);\n",
    "\n",
    "deepcopy(cfd::ConstantFunctionDict) = ConstantFunctionDict{typeof(cfd.value)}(deepcopy(cfd.value));\n",
    "\n",
    "mutable struct CSPDict\n",
    "    dict::Union{Nothing, Dict, ConstantFunctionDict}\n",
    "    \n",
    "    function CSPDict(dictionary::Union{Nothing, Dict, ConstantFunctionDict})\n",
    "        return new(dictionary);\n",
    "    end\n",
    "end\n",
    "\n",
    "function getindex(dict::CSPDict, key)\n",
    "    if (typeof(dict.dict) <: ConstantFunctionDict)\n",
    "        return dict.dict.value;\n",
    "    else\n",
    "        return getindex(dict.dict, key);\n",
    "    end\n",
    "end\n",
    "\n",
    "function getkey(dict::CSPDict, key, default)\n",
    "    if (typeof(dict.dict) <: ConstantFunctionDict)\n",
    "        return dict.dict.value;\n",
    "    else\n",
    "        return getkey(dict.dict, key, default);\n",
    "    end\n",
    "end\n",
    "\n",
    "function get(dict::CSPDict, key, default)\n",
    "    if (typeof(dict.dict) <: ConstantFunctionDict)\n",
    "        return dict.dict.value;\n",
    "    else\n",
    "        return get(dict.dict, key, default);\n",
    "    end\n",
    "end\n",
    "\n",
    "function haskey(dict::CSPDict, key)\n",
    "    if (typeof(dict.dict) <: ConstantFunctionDict)\n",
    "        return true;\n",
    "    else\n",
    "        return haskey(dict.dict, key);\n",
    "    end\n",
    "end\n",
    "\n",
    "function in(pair::Pair, dict::CSPDict)\n",
    "    if (typeof(dict.dict) <: ConstantFunctionDict)\n",
    "        if (getindex(pair, 2) == dict.dict.value)\n",
    "            return true;\n",
    "        else\n",
    "            return false;\n",
    "        end\n",
    "    else\n",
    "        return in(pair, dict.dict);\n",
    "    end\n",
    "end\n",
    "\n",
    "# ___________________________________________________________________ #\n",
    "# Everything related to assigning variables #\n",
    "# ___________________________________________________________________ #\n",
    "\n",
    "\"\"\"\n",
    "    assign(problem, key, val, assignment)\n",
    "    Overwrite (if an value exists already) assignment[key] with 'val'.\n",
    "\"\"\"\n",
    "function assign(problem::T, key, val, assignment::Dict) where {T <: AbstractCSP}\n",
    "    assignment[key] = val;\n",
    "    problem.nassigns = problem.nassigns + 1;\n",
    "    nothing;\n",
    "end\n",
    "\n",
    "\"\"\"\n",
    "    unassign(problem, key, val, assignment)\n",
    "    Delete the existing (key, val) pair from 'assignment'.\n",
    "\"\"\"\n",
    "function unassign(problem::T, key, assignment::Dict) where {T <: AbstractCSP}\n",
    "    if (haskey(assignment, key))\n",
    "        delete!(assignment, key);\n",
    "    end\n",
    "    nothing;\n",
    "end\n",
    "\n",
    "function nconflicts(problem::T, key, val, assignment::Dict) where {T <: AbstractCSP}\n",
    "    return count((\n",
    "        function(second_key)\n",
    "            return (haskey(assignment, second_key) && !(problem.constraints(key, val, second_key, assignment[second_key])));\n",
    "        end),\n",
    "    problem.neighbors[key]);\n",
    "end\n",
    "\n",
    "\n",
    "function support_pruning(problem::T) where {T <: AbstractCSP}\n",
    "    if (problem.current_domains === nothing)\n",
    "        problem.current_domains = Dict(collect(Pair(key, collect(problem.domains[key])) for key in problem.vars));\n",
    "    end\n",
    "    nothing;\n",
    "end\n",
    "\n",
    "function suppose(problem::T, key, val) where {T <: AbstractCSP}\n",
    "    support_pruning(problem);\n",
    "    local removals::AbstractVector = collect(Pair(key, a) for a in problem.current_domains[key]\n",
    "    if (a != val));\n",
    "        problem.current_domains[key] = [val];\n",
    "    return removals;\n",
    "end\n",
    "\n",
    "\n",
    "function parse_neighbors(neighbors::String; vars::AbstractVector=[])\n",
    "    local new_dict = Dict();\n",
    "    for var in vars\n",
    "        new_dict[var] = [];\n",
    "    end\n",
    "    local specs::AbstractVector = collect(map(String, split(spec, [':'])) for spec in split(neighbors, [';']));\n",
    "    for (A, A_n) in specs\n",
    "        A = String(strip(A));\n",
    "        if (!haskey(new_dict, A))\n",
    "            new_dict[A] = [];\n",
    "        end\n",
    "        for B in map(String, split(A_n))\n",
    "            push!(new_dict[A], B);\n",
    "            if (!haskey(new_dict, B))\n",
    "                new_dict[B] = [];\n",
    "            end\n",
    "            push!(new_dict[B], A);\n",
    "        end\n",
    "    end\n",
    "    return new_dict;\n",
    "end"
   ]
  },
  {
   "cell_type": "code",
   "execution_count": 62,
   "id": "asian-exhibition",
   "metadata": {},
   "outputs": [
    {
     "data": {
      "text/plain": [
       "no_inference (generic function with 1 method)"
      ]
     },
     "execution_count": 62,
     "metadata": {},
     "output_type": "execute_result"
    }
   ],
   "source": [
    "function backtracking_search(problem::T; select_unassigned_variable::Function=first_unassigned_variable,\n",
    "        order_domain_values::Function=unordered_domain_values,\n",
    "        inference::Function=no_inference) where {T <: AbstractCSP}\n",
    "    local result = backtrack(problem, Dict(),select_unassigned_variable=select_unassigned_variable,order_domain_values=order_domain_values,inference=inference);\n",
    "    if (!(typeof(result) <: Nothing || goal_test(problem, result)))\n",
    "        error(\"BacktrackingSearchError: Unexpected result!\")\n",
    "    end\n",
    "    return result;\n",
    "end\n",
    "\n",
    "function backtrack(problem::T, assignment::Dict; select_unassigned_variable::Function=first_unassigned_variable, order_domain_values::Function=unordered_domain_values, inference::Function=no_inference) where {T <: AbstractCSP}\n",
    "    if (length(assignment) == length(problem.vars))\n",
    "        return assignment;\n",
    "    end\n",
    "    local var = select_unassigned_variable(problem, assignment);\n",
    "    for value in order_domain_values(problem, var, assignment)\n",
    "        if (nconflicts(problem, var, value, assignment) == 0)\n",
    "            assign(problem, var, value, assignment);\n",
    "            removals = suppose(problem, var, value);\n",
    "            if (inference(problem, var, value, assignment, removals))\n",
    "                result = backtrack(problem, assignment, select_unassigned_variable=select_unassigned_variable,order_domain_values=order_domain_values,inference=inference);\n",
    "                if (!(typeof(result) <: Nothing))\n",
    "                    return result;\n",
    "                end\n",
    "            end\n",
    "            restore(problem, removals);\n",
    "        end\n",
    "    end\n",
    "    unassign(problem, var, assignment);\n",
    "    return nothing;\n",
    "end\n",
    "\n",
    "\n",
    "function restore(problem::T, removals::AbstractVector) where {T <: AbstractCSP}\n",
    "    for (key, val) in removals\n",
    "        push!(problem.current_domains[key], val);\n",
    "    end\n",
    "    nothing;\n",
    "end\n",
    "\n",
    "function goal_test(problem::T, state::Tuple) where {T <: AbstractCSP}\n",
    "    let\n",
    "    local assignment = Dict(state);\n",
    "    return (length(assignment) == length(problem.vars) && all((function(key) return nconflicts(problem, key, assignment[key], assignment) == 0; end),problem.vars));\n",
    "    end\n",
    "end\n",
    "\n",
    "function goal_test(problem::T, state::Dict) where {T <: AbstractCSP}\n",
    "    let\n",
    "    local assignment = deepcopy(state);\n",
    "    return (length(assignment) == length(problem.vars) && all((function(key) return nconflicts(problem, key, assignment[key], assignment) == 0; end),problem.vars));\n",
    "    end\n",
    "end\n",
    "\n",
    "\n",
    "function first_unassigned_variable(problem::T, assignment::Dict) where {T <: AbstractCSP}\n",
    "    return getindex(problem.vars, findfirst((function(var) return !haskey(assignment, var);\n",
    "    end),problem.vars));\n",
    "end\n",
    "\n",
    "function unordered_domain_values(problem::T, var, assignment::Dict) where {T <: AbstractCSP}\n",
    "    return choices(problem, var);\n",
    "end\n",
    "\n",
    "function choices(problem::T, key) where {T <: AbstractCSP}\n",
    "    if (!(problem.current_domains === nothing))\n",
    "        return problem.current_domains[key];\n",
    "    else\n",
    "        return problem.domains[key];\n",
    "    end\n",
    "end\n",
    "\n",
    "function no_inference(problem::T, var, value, assignment::Dict, removals::Union{Nothing, AbstractVector}) where {T <: AbstractCSP}\n",
    "    return true;\n",
    "end"
   ]
  },
  {
   "cell_type": "code",
   "execution_count": 63,
   "id": "atlantic-jewelry",
   "metadata": {},
   "outputs": [],
   "source": [
    "mutable struct ScheduleCSP <: AbstractCSP\n",
    "    vars::AbstractVector\n",
    "    domains::CSPDict\n",
    "    neighbors::CSPDict\n",
    "    constraints::Function\n",
    "    initial::Tuple\n",
    "    current_domains::Union{Nothing, Dict}\n",
    "    nassigns::Int64\n",
    "    function ScheduleCSP(constraints::Function;\n",
    "        initial::Tuple=(), current_domains::Union{Nothing, Dict}=nothing, nassigns::Int64=0)\n",
    "        local vars = Course.date\n",
    "        local domains = Course.available\n",
    "        local neighbors=Schedule.courses\n",
    "        return new(vars, domains, neighbors, ScheduleConstraints, initial, current_domains, nassigns)\n",
    "    end\n",
    "end"
   ]
  },
  {
   "cell_type": "code",
   "execution_count": 64,
   "id": "activated-certification",
   "metadata": {},
   "outputs": [
    {
     "data": {
      "text/plain": [
       "ScheduleConstraints (generic function with 1 method)"
      ]
     },
     "execution_count": 64,
     "metadata": {},
     "output_type": "execute_result"
    }
   ],
   "source": [
    "function scheduleConstraints(s::Schedule)\n",
    "    for c1 in s.courses\n",
    "        if c1.dates ≠ nothing\n",
    "            for c2 in s.courses\n",
    "                if c2.dates ≠ nothing\n",
    "                    if Day(c1.dates)-Day(c2.dates)<c2.prep_days && c1.dates >= c2.available\n",
    "                        return false\n",
    "                    end\n",
    "                end\n",
    "            end\n",
    "        end\n",
    "        if c1.date ≠ nothing && c1.date ∉ c.available\n",
    "            return false\n",
    "        end\n",
    "    end\n",
    "    true\n",
    "end"
   ]
  },
  {
   "cell_type": "code",
   "execution_count": 65,
   "id": "opponent-nickel",
   "metadata": {},
   "outputs": [
    {
     "data": {
      "text/plain": [
       "ScheduleCSP"
      ]
     },
     "execution_count": 65,
     "metadata": {},
     "output_type": "execute_result"
    }
   ],
   "source": [
    "prob = ScheduleCSP"
   ]
  },
  {
   "cell_type": "code",
   "execution_count": 67,
   "id": "offensive-synthetic",
   "metadata": {},
   "outputs": [
    {
     "ename": "LoadError",
     "evalue": "MethodError: no method matching backtracking_search(::Type{ScheduleCSP})\nClosest candidates are:\n  backtracking_search(!Matched::T; select_unassigned_variable, order_domain_values, inference) where T<:AbstractCSP at In[62]:1",
     "output_type": "error",
     "traceback": [
      "MethodError: no method matching backtracking_search(::Type{ScheduleCSP})\nClosest candidates are:\n  backtracking_search(!Matched::T; select_unassigned_variable, order_domain_values, inference) where T<:AbstractCSP at In[62]:1",
      "",
      "Stacktrace:",
      " [1] top-level scope at In[67]:1",
      " [2] include_string(::Function, ::Module, ::String, ::String) at .\\loading.jl:1091",
      " [3] execute_code(::String, ::String) at C:\\Users\\Simplex\\.julia\\packages\\IJulia\\a1SNk\\src\\execute_request.jl:27",
      " [4] execute_request(::ZMQ.Socket, ::IJulia.Msg) at C:\\Users\\Simplex\\.julia\\packages\\IJulia\\a1SNk\\src\\execute_request.jl:86",
      " [5] #invokelatest#1 at .\\essentials.jl:710 [inlined]",
      " [6] invokelatest at .\\essentials.jl:709 [inlined]",
      " [7] eventloop(::ZMQ.Socket) at C:\\Users\\Simplex\\.julia\\packages\\IJulia\\a1SNk\\src\\eventloop.jl:8",
      " [8] (::IJulia.var\"#15#18\")() at .\\task.jl:356"
     ]
    }
   ],
   "source": [
    "backtracking_search(ScheduleCSP)"
   ]
  },
  {
   "cell_type": "code",
   "execution_count": null,
   "id": "blessed-marshall",
   "metadata": {},
   "outputs": [],
   "source": []
  },
  {
   "cell_type": "code",
   "execution_count": null,
   "id": "eleven-broadcast",
   "metadata": {},
   "outputs": [],
   "source": []
  },
  {
   "cell_type": "code",
   "execution_count": null,
   "id": "fluid-matter",
   "metadata": {},
   "outputs": [],
   "source": []
  }
 ],
 "metadata": {
  "kernelspec": {
   "display_name": "Julia 1.5.2",
   "language": "julia",
   "name": "julia-1.5"
  },
  "language_info": {
   "file_extension": ".jl",
   "mimetype": "application/julia",
   "name": "julia",
   "version": "1.5.2"
  }
 },
 "nbformat": 4,
 "nbformat_minor": 5
}
