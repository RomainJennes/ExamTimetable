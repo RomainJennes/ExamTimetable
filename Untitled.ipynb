{
 "cells": [
  {
   "cell_type": "code",
   "execution_count": null,
   "metadata": {},
   "outputs": [],
   "source": [
    "include(\"schedule_lib.jl\")\n",
    "using BenchmarkTools"
   ]
  },
  {
   "cell_type": "code",
   "execution_count": null,
   "metadata": {},
   "outputs": [],
   "source": [
    "filename = \"examparams.xlsx\"\n",
    "s = import_excel(filename)"
   ]
  },
  {
   "cell_type": "code",
   "execution_count": null,
   "metadata": {},
   "outputs": [],
   "source": [
    "s.courses[1].date = Date(2021,6,8)\n",
    "apply_prep!(s)\n",
    "s"
   ]
  },
  {
   "cell_type": "code",
   "execution_count": null,
   "metadata": {},
   "outputs": [],
   "source": [
    "s = import_excel(filename)\n",
    "s=backtracking_search(s)"
   ]
  },
  {
   "cell_type": "code",
   "execution_count": null,
   "metadata": {},
   "outputs": [],
   "source": [
    "s = import_excel(filename)\n",
    "s=backtracking_search(s,inference=apply_prep!,select_unassigned_variable=MCV)"
   ]
  },
  {
   "cell_type": "code",
   "execution_count": null,
   "metadata": {},
   "outputs": [],
   "source": [
    "s = import_excel(filename)\n",
    "s=backtracking_search(s,inference=apply_arc_consistency!)"
   ]
  },
  {
   "cell_type": "code",
   "execution_count": null,
   "metadata": {},
   "outputs": [],
   "source": [
    "s = import_excel(filename)\n",
    "@benchmark backtracking_search($s,inference=$apply_prep!)"
   ]
  },
  {
   "cell_type": "code",
   "execution_count": null,
   "metadata": {},
   "outputs": [],
   "source": [
    "s = import_excel(filename)\n",
    "@benchmark backtracking_search($s,inference=$apply_prep!,select_unassigned_variable=$MCV)"
   ]
  },
  {
   "cell_type": "code",
   "execution_count": null,
   "metadata": {},
   "outputs": [],
   "source": [
    "s = import_excel(filename)\n",
    "@benchmark backtracking_search($s,inference=$apply_arc_consistency!)"
   ]
  },
  {
   "cell_type": "code",
   "execution_count": null,
   "metadata": {},
   "outputs": [],
   "source": [
    "s = import_excel(filename)\n",
    "@benchmark backtracking_search($s,inference=$apply_arc_consistency!,select_unassigned_variable=$MCV)"
   ]
  }
 ],
 "metadata": {
  "@webio": {
   "lastCommId": null,
   "lastKernelId": null
  },
  "kernelspec": {
   "display_name": "Julia (6 threads) 1.5.1",
   "language": "julia",
   "name": "julia-(6-threads)-1.5"
  },
  "language_info": {
   "file_extension": ".jl",
   "mimetype": "application/julia",
   "name": "julia",
   "version": "1.5.1"
  }
 },
 "nbformat": 4,
 "nbformat_minor": 4
}
