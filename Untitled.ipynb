{
 "cells": [
  {
   "cell_type": "code",
   "execution_count": 1,
   "metadata": {},
   "outputs": [
    {
     "data": {
      "text/plain": [
       "writeExcel (generic function with 1 method)"
      ]
     },
     "execution_count": 1,
     "metadata": {},
     "output_type": "execute_result"
    }
   ],
   "source": [
    "include(\"schedule_lib.jl\")"
   ]
  },
  {
   "cell_type": "code",
   "execution_count": null,
   "metadata": {},
   "outputs": [],
   "source": [
    "filename = \"examparams.xlsx\"\n",
    "s = import_excel(filename)"
   ]
  },
  {
   "cell_type": "code",
   "execution_count": 10,
   "metadata": {},
   "outputs": [],
   "source": [
    "using Plots\n",
    "using Dates\n",
    "using XLSX\n",
    "mutable struct Course\n",
    "    name::String\n",
    "    prep_days::Day\n",
    "    available::Array{Date,1}\n",
    "    date::Union{Date,Nothing}\n",
    "    Ndays::Day\n",
    "    promotions::Array{Int,1}\n",
    "    groups::Dict{String,Array{String,1}}\n",
    "    \n",
    "    function Course(name::String,prep_days::Union{Day,Int64},available::Array{Date,1},promotions::Array{Int,1};\n",
    "            Ndays::Union{Day,Int64}=1,date::Union{Date,Nothing}=nothing, groups::Dict{String,Array{String,1}}=Dict{String,Array{String,1}}())\n",
    "        new(name,Day(prep_days),available,date,Day(Ndays),promotions,groups)\n",
    "    end\n",
    "end"
   ]
  },
  {
   "cell_type": "code",
   "execution_count": 88,
   "metadata": {},
   "outputs": [
    {
     "data": {
      "text/plain": [
       "is_neighbour (generic function with 1 method)"
      ]
     },
     "execution_count": 88,
     "metadata": {},
     "output_type": "execute_result"
    }
   ],
   "source": [
    "function is_neighbour(course1::Course,course2::Course)\n",
    "    common_keywords=intersect(keys(course1.groups),keys(course2.groups))\n",
    "    no_common_groups=[isempty(intersect(course1.groups[k],course2.groups[k])) for k in common_keywords]\n",
    "    return !isempty(intersect(course1.promotions,course2.promotions)) && (isempty(common_keywords) || !any(no_common_groups))\n",
    "end"
   ]
  },
  {
   "cell_type": "code",
   "execution_count": 112,
   "metadata": {},
   "outputs": [
    {
     "data": {
      "text/plain": [
       "Course(\"ES221\", Day(2), [Date(\"2013-07-01\")], nothing, Day(1), [172], Dict(\"EnglishLevel\" => [\"2\"],\"BHK\" => [\"pilot\", \"navy\"]))"
      ]
     },
     "execution_count": 112,
     "metadata": {},
     "output_type": "execute_result"
    }
   ],
   "source": [
    "c1=Course(\"ES221\",Day(2),[Date(2013,7,1)],[172],groups=Dict(\"BHK\"=>[\"pilot\",\"navy\"],\"EnglishLevel\"=>[\"2\"]))"
   ]
  },
  {
   "cell_type": "code",
   "execution_count": 113,
   "metadata": {},
   "outputs": [
    {
     "data": {
      "text/plain": [
       "Course(\"ES222\", Day(2), [Date(\"2013-07-01\")], nothing, Day(1), [172], Dict(\"EnglishLevel\" => [\"1\"],\"BHK\" => [\"pilot\"]))"
      ]
     },
     "execution_count": 113,
     "metadata": {},
     "output_type": "execute_result"
    }
   ],
   "source": [
    "c2=Course(\"ES222\",Day(2),[Date(2013,7,1)],[172],groups=Dict(\"BHK\"=>[\"pilot\"],\"EnglishLevel\"=>[\"1\"]))"
   ]
  },
  {
   "cell_type": "code",
   "execution_count": 114,
   "metadata": {},
   "outputs": [
    {
     "data": {
      "text/plain": [
       "false"
      ]
     },
     "execution_count": 114,
     "metadata": {},
     "output_type": "execute_result"
    }
   ],
   "source": [
    "is_neighbour(c1,c2)"
   ]
  },
  {
   "cell_type": "code",
   "execution_count": 132,
   "metadata": {},
   "outputs": [
    {
     "data": {
      "text/plain": [
       "2-element Array{SubString{String},1}:\n",
       " \"prom=172\"\n",
       " \"BHK=pilot\""
      ]
     },
     "execution_count": 132,
     "metadata": {},
     "output_type": "execute_result"
    }
   ],
   "source": [
    "map(a->slplit(a,'=')[1], split(\"prom=172,BHK=pilot\",\",\"))"
   ]
  },
  {
   "cell_type": "code",
   "execution_count": 149,
   "metadata": {},
   "outputs": [
    {
     "data": {
      "text/plain": [
       "Dict{Any,Any}()"
      ]
     },
     "execution_count": 149,
     "metadata": {},
     "output_type": "execute_result"
    }
   ],
   "source": [
    "d=Dict()\n",
    "for a in split(\"\",\",\")\n",
    "    if a==\"\"\n",
    "        continue\n",
    "    end\n",
    "    r=split(a,\"=\")\n",
    "    d[r[1]]=r[2] \n",
    "end\n",
    "d"
   ]
  },
  {
   "cell_type": "code",
   "execution_count": 9,
   "metadata": {},
   "outputs": [
    {
     "data": {
      "text/plain": [
       "true"
      ]
     },
     "execution_count": 9,
     "metadata": {},
     "output_type": "execute_result"
    }
   ],
   "source": [
    "a=\"BHK=pilot,CIS;EnglishLevel=1\"\n",
    "#b=\"172,157\"\n",
    "#reg=r\"^([0-9]+,?)+$\"\n",
    "reg=r\"^([a-zA-Z0-9_]+=([a-zA-Z0-9_]+,?)+;?)*$\"\n",
    "occursin(reg,a)"
   ]
  },
  {
   "cell_type": "code",
   "execution_count": 1,
   "metadata": {},
   "outputs": [
    {
     "data": {
      "text/plain": [
       "true"
      ]
     },
     "execution_count": 1,
     "metadata": {},
     "output_type": "execute_result"
    }
   ],
   "source": [
    "a=nothing\n",
    "a==nothing"
   ]
  },
  {
   "cell_type": "code",
   "execution_count": 3,
   "metadata": {},
   "outputs": [
    {
     "data": {
      "text/plain": [
       "false"
      ]
     },
     "execution_count": 3,
     "metadata": {},
     "output_type": "execute_result"
    }
   ],
   "source": [
    "function isweekend(d::Date)\n",
    "    issaturday = d->Dates.dayofweek(d) == Dates.Saturday\n",
    "    issunday = d->Dates.dayofweek(d) == Dates.Sunday\n",
    "    if issaturday(d) || issunday(d) == true\n",
    "        return true\n",
    "    else\n",
    "        return false\n",
    "    end\n",
    "end\n",
    "isweekend(Date(2021,3,26))"
   ]
  }
 ],
 "metadata": {
  "kernelspec": {
   "display_name": "Julia 1.5.1",
   "language": "julia",
   "name": "julia-1.5"
  },
  "language_info": {
   "file_extension": ".jl",
   "mimetype": "application/julia",
   "name": "julia",
   "version": "1.5.1"
  }
 },
 "nbformat": 4,
 "nbformat_minor": 4
}
