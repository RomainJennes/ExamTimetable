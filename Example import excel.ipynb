{
 "cells": [
  {
   "cell_type": "code",
   "execution_count": 1,
   "id": "environmental-occasion",
   "metadata": {},
   "outputs": [],
   "source": [
    "using XLSX\n",
    "include(\"schedule_lib.jl\")\n",
    "using Dates"
   ]
  },
  {
   "cell_type": "code",
   "execution_count": 2,
   "id": "known-slide",
   "metadata": {},
   "outputs": [],
   "source": [
    "# function treat_range_str(avail)\n",
    "#     for (i,str) in enumerate(avail)\n",
    "#         avail[i] = split(str,',')\n",
    "#     end\n",
    "\n",
    "#     str = Vector{String}()\n",
    "#     for s in avail\n",
    "#         push!(str,s...)\n",
    "#     end\n",
    "#     replace.(str,\";\"=>\":\")\n",
    "# end\n",
    "\n",
    "# function get_range(str::String)\n",
    "#     f = x -> isdigit(x) || x == ':'\n",
    "#     @assert all([f(c) for c in str]) \"Invalid string format\"\n",
    "#     x1,x2 = parse.(Int64,split(str,':'))\n",
    "#     return x1:x2\n",
    "# end\n",
    "\n",
    "# function get_ranges(data)\n",
    "#     avail = data[:,2]\n",
    "#     str = treat_range_str(avail)\n",
    "#     ranges = get_range.(str)\n",
    "#     collect.(ranges)\n",
    "# end\n",
    "\n",
    "# function get_names(data)\n",
    "#     data[:,1]\n",
    "# end\n",
    "\n",
    "# function get_Ndays(data)\n",
    "#     data[:,3]\n",
    "# end\n",
    "\n",
    "# function get_prepdays(data)\n",
    "#     data[:,4]\n",
    "# end\n",
    "\n",
    "# function treat_data(data)\n",
    "#     names = get_names(data)\n",
    "#     prep_days = get_prepdays(data)\n",
    "#     available_days = get_ranges(data)\n",
    "#     Ndays = get_Ndays(data)\n",
    "#     (names,prep_days,available_days,Ndays)\n",
    "# end"
   ]
  },
  {
   "cell_type": "code",
   "execution_count": null,
   "id": "satellite-reception",
   "metadata": {},
   "outputs": [],
   "source": [
    "filename = \"examparams.xlsx\"\n",
    "s = import_excel(filename)"
   ]
  }
 ],
 "metadata": {
  "@webio": {
   "lastCommId": null,
   "lastKernelId": null
  },
  "kernelspec": {
   "display_name": "Julia (6 threads) 1.5.1",
   "language": "julia",
   "name": "julia-(6-threads)-1.5"
  },
  "language_info": {
   "file_extension": ".jl",
   "mimetype": "application/julia",
   "name": "julia",
   "version": "1.5.1"
  }
 },
 "nbformat": 4,
 "nbformat_minor": 5
}
