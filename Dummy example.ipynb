{
 "cells": [
  {
   "cell_type": "code",
   "execution_count": 35,
   "metadata": {},
   "outputs": [],
   "source": [
    "include(\"schedule_lib.jl\")\n",
    "using BenchmarkTools\n",
    "using Base.Threads"
   ]
  },
  {
   "cell_type": "code",
   "execution_count": 44,
   "metadata": {},
   "outputs": [
    {
     "data": {
      "text/plain": [
       "false"
      ]
     },
     "execution_count": 44,
     "metadata": {},
     "output_type": "execute_result"
    }
   ],
   "source": [
    "filename = \"examparams.xlsx\"\n",
    "s = import_excel_sheet(filename,\"172 POL\")\n",
    "s.courses[6].prof == s.courses[7].prof"
   ]
  },
  {
   "cell_type": "code",
   "execution_count": null,
   "metadata": {},
   "outputs": [],
   "source": [
    "s = import_excel(filename)\n",
    "s = s[1]\n",
    "s.courses[1].date = Date(2021,6,8)\n",
    "print(s)\n",
    "apply_prep!(s)\n",
    "print(s)"
   ]
  },
  {
   "cell_type": "code",
   "execution_count": null,
   "metadata": {
    "scrolled": false
   },
   "outputs": [],
   "source": [
    "s = import_excel(filename)\n",
    "# Very slow : \n",
    "@time s = backtracking_search.(s,inference=apply_prep!) \n",
    "\n",
    "\n",
    "s = import_excel(filename)\n",
    "# Much fatser :\n",
    "@time s = backtracking_search(s,inference=apply_prep!); # Exists for both ::schedule and ::Vector{Schedule}"
   ]
  },
  {
   "cell_type": "code",
   "execution_count": null,
   "metadata": {},
   "outputs": [],
   "source": [
    "s = import_excel(filename)\n",
    "@benchmark backtracking_search($s,inference=$apply_prep!)"
   ]
  },
  {
   "cell_type": "code",
   "execution_count": null,
   "metadata": {},
   "outputs": [],
   "source": [
    "s = import_excel(filename)\n",
    "@benchmark backtracking_search($s,inference=$apply_prep!,select_unassigned_variable=$MCV,order_domain_values=$LCV)"
   ]
  },
  {
   "cell_type": "code",
   "execution_count": null,
   "metadata": {},
   "outputs": [],
   "source": [
    "s = import_excel(filename)\n",
    "@benchmark backtracking_search($s,inference=$apply_arc_consistency!)"
   ]
  },
  {
   "cell_type": "code",
   "execution_count": null,
   "metadata": {},
   "outputs": [],
   "source": [
    "s = import_excel(filename)\n",
    "@benchmark backtracking_search($s,inference=$apply_arc_consistency!,select_unassigned_variable=$MCV,order_domain_values=$LCV)"
   ]
  }
 ],
 "metadata": {
  "@webio": {
   "lastCommId": null,
   "lastKernelId": null
  },
  "kernelspec": {
   "display_name": "Julia 1.6.0 - 6 Threads 1.6.0",
   "language": "julia",
   "name": "julia-1.6.0---6-threads-1.6"
  },
  "language_info": {
   "file_extension": ".jl",
   "mimetype": "application/julia",
   "name": "julia",
   "version": "1.6.0"
  }
 },
 "nbformat": 4,
 "nbformat_minor": 4
}
