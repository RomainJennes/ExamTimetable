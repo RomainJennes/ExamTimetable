{
 "cells": [
  {
   "cell_type": "markdown",
   "id": "b5516616",
   "metadata": {},
   "source": [
    "# Optimisation\n",
    "\n",
    "This part is to look at the resources needed to apply some methods to obtain the final results."
   ]
  },
  {
   "cell_type": "markdown",
   "id": "3a270705",
   "metadata": {},
   "source": [
    "We first load the functions and data."
   ]
  },
  {
   "cell_type": "code",
   "execution_count": 1,
   "id": "fc7e75b8",
   "metadata": {},
   "outputs": [
    {
     "data": {
      "text/plain": [
       "get_data (generic function with 1 method)"
      ]
     },
     "execution_count": 1,
     "metadata": {},
     "output_type": "execute_result"
    }
   ],
   "source": [
    "include(\"schedule_lib.jl\")\n",
    "using BenchmarkTools\n",
    "\n",
    "students_filename = \"examparams.xlsx\"\n",
    "prof_filename = \"professors.xlsx\"\n",
    "function get_data()\n",
    "    professors = import_prof(prof_filename)\n",
    "    s = import_excel(students_filename,professors)\n",
    "end"
   ]
  },
  {
   "cell_type": "markdown",
   "id": "752d28ee",
   "metadata": {},
   "source": [
    "## Simple backtracking\n",
    "\n",
    "We first use the backtracking with the constraints only."
   ]
  },
  {
   "cell_type": "code",
   "execution_count": 2,
   "id": "b73cdb86",
   "metadata": {},
   "outputs": [
    {
     "data": {
      "text/plain": [
       "BenchmarkTools.Trial: \n",
       "  memory estimate:  9.13 MiB\n",
       "  allocs estimate:  83040\n",
       "  --------------\n",
       "  minimum time:     11.114 ms (0.00% GC)\n",
       "  median time:      13.879 ms (0.00% GC)\n",
       "  mean time:        14.450 ms (4.73% GC)\n",
       "  maximum time:     22.086 ms (17.67% GC)\n",
       "  --------------\n",
       "  samples:          346\n",
       "  evals/sample:     1"
      ]
     },
     "execution_count": 2,
     "metadata": {},
     "output_type": "execute_result"
    }
   ],
   "source": [
    "s = get_data()\n",
    "@benchmark backtracking_search($s)"
   ]
  },
  {
   "cell_type": "markdown",
   "id": "2bedc2a8",
   "metadata": {},
   "source": [
    "## Forward looking\n",
    "\n",
    "Let's add some forward looking"
   ]
  },
  {
   "cell_type": "code",
   "execution_count": 2,
   "id": "ab42dcd1",
   "metadata": {},
   "outputs": [
    {
     "data": {
      "text/plain": [
       "BenchmarkTools.Trial: \n",
       "  memory estimate:  9.13 MiB\n",
       "  allocs estimate:  83040\n",
       "  --------------\n",
       "  minimum time:     11.114 ms (0.00% GC)\n",
       "  median time:      13.879 ms (0.00% GC)\n",
       "  mean time:        14.450 ms (4.73% GC)\n",
       "  maximum time:     22.086 ms (17.67% GC)\n",
       "  --------------\n",
       "  samples:          346\n",
       "  evals/sample:     1"
      ]
     },
     "execution_count": 2,
     "metadata": {},
     "output_type": "execute_result"
    }
   ],
   "source": [
    "s = get_data()\n",
    "@benchmark backtracking_search($s,inference=$full_filtering!)"
   ]
  },
  {
   "cell_type": "markdown",
   "id": "e9a0ff8c",
   "metadata": {},
   "source": [
    "## Backtracking with MCV\n",
    "\n",
    "We now apply the backtracking with MVC."
   ]
  },
  {
   "cell_type": "code",
   "execution_count": 3,
   "id": "050b3a09",
   "metadata": {},
   "outputs": [
    {
     "data": {
      "text/plain": [
       "BenchmarkTools.Trial: \n",
       "  memory estimate:  112.15 MiB\n",
       "  allocs estimate:  968442\n",
       "  --------------\n",
       "  minimum time:     221.077 ms (2.84% GC)\n",
       "  median time:      229.322 ms (4.19% GC)\n",
       "  mean time:        231.268 ms (3.67% GC)\n",
       "  maximum time:     245.534 ms (4.42% GC)\n",
       "  --------------\n",
       "  samples:          22\n",
       "  evals/sample:     1"
      ]
     },
     "execution_count": 3,
     "metadata": {},
     "output_type": "execute_result"
    }
   ],
   "source": [
    "s = get_data()\n",
    "@benchmark backtracking_search($s,inference=$full_filtering!,select_unassigned_variable=$MCV)"
   ]
  },
  {
   "cell_type": "markdown",
   "id": "53002c24",
   "metadata": {},
   "source": [
    "## Backtracking with MCV and LCV\n",
    "\n",
    "We now apply the backtracking with MVC and LCV."
   ]
  },
  {
   "cell_type": "code",
   "execution_count": 4,
   "id": "42d88936",
   "metadata": {},
   "outputs": [
    {
     "data": {
      "text/plain": [
       "BenchmarkTools.Trial: \n",
       "  memory estimate:  1.06 GiB\n",
       "  allocs estimate:  9007828\n",
       "  --------------\n",
       "  minimum time:     2.386 s (3.34% GC)\n",
       "  median time:      2.411 s (3.30% GC)\n",
       "  mean time:        2.427 s (3.26% GC)\n",
       "  maximum time:     2.484 s (3.14% GC)\n",
       "  --------------\n",
       "  samples:          3\n",
       "  evals/sample:     1"
      ]
     },
     "execution_count": 4,
     "metadata": {},
     "output_type": "execute_result"
    }
   ],
   "source": [
    "s = get_data()\n",
    "@benchmark backtracking_search($s,inference=$full_filtering!,\n",
    "    select_unassigned_variable=$MCV,order_domain_values=$LCV)"
   ]
  },
  {
   "cell_type": "markdown",
   "id": "2890e597",
   "metadata": {},
   "source": [
    "## Backtracking with arc consistency (try at your own risks)\n",
    "\n",
    "We now apply the backtracking with arc consistency"
   ]
  },
  {
   "cell_type": "code",
   "execution_count": 5,
   "id": "99e5607e",
   "metadata": {},
   "outputs": [
    {
     "data": {
      "text/plain": [
       "BenchmarkTools.Trial: \n",
       "  memory estimate:  39.48 GiB\n",
       "  allocs estimate:  330860142\n",
       "  --------------\n",
       "  minimum time:     94.852 s (3.03% GC)\n",
       "  median time:      94.852 s (3.03% GC)\n",
       "  mean time:        94.852 s (3.03% GC)\n",
       "  maximum time:     94.852 s (3.03% GC)\n",
       "  --------------\n",
       "  samples:          1\n",
       "  evals/sample:     1"
      ]
     },
     "execution_count": 5,
     "metadata": {},
     "output_type": "execute_result"
    }
   ],
   "source": [
    "s = get_data()\n",
    "@benchmark backtracking_search($s,inference=$apply_arc_consistency!)"
   ]
  },
  {
   "cell_type": "markdown",
   "id": "2fd66391",
   "metadata": {},
   "source": [
    "## Backtracking with arc consistency and MCV\n",
    "\n",
    "We now apply the backtracking with arc consistency and MCV."
   ]
  },
  {
   "cell_type": "code",
   "execution_count": 6,
   "id": "61338953",
   "metadata": {},
   "outputs": [
    {
     "data": {
      "text/plain": [
       "BenchmarkTools.Trial: \n",
       "  memory estimate:  52.79 GiB\n",
       "  allocs estimate:  444196440\n",
       "  --------------\n",
       "  minimum time:     131.539 s (3.15% GC)\n",
       "  median time:      131.539 s (3.15% GC)\n",
       "  mean time:        131.539 s (3.15% GC)\n",
       "  maximum time:     131.539 s (3.15% GC)\n",
       "  --------------\n",
       "  samples:          1\n",
       "  evals/sample:     1"
      ]
     },
     "execution_count": 6,
     "metadata": {},
     "output_type": "execute_result"
    }
   ],
   "source": [
    "s = get_data()\n",
    "@benchmark backtracking_search($s,inference=$apply_arc_consistency!,\n",
    "    select_unassigned_variable=$MCV)"
   ]
  }
 ],
 "metadata": {
  "kernelspec": {
   "display_name": "Julia 1.6.0",
   "language": "julia",
   "name": "julia-1.6"
  },
  "language_info": {
   "file_extension": ".jl",
   "mimetype": "application/julia",
   "name": "julia",
   "version": "1.6.0"
  }
 },
 "nbformat": 4,
 "nbformat_minor": 5
}
